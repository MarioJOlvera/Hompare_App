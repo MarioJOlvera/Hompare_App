{
 "cells": [
  {
   "cell_type": "code",
   "execution_count": 7,
   "metadata": {},
   "outputs": [],
   "source": [
    "import json\n",
    "import os\n",
    "from pprint import pprint"
   ]
  },
  {
   "cell_type": "code",
   "execution_count": 33,
   "metadata": {},
   "outputs": [
    {
     "name": "stdout",
     "output_type": "stream",
     "text": [
      "['hidalgo.json', 'puebla_1.json', 'puebla_2.json']\n"
     ]
    }
   ],
   "source": [
    "path = \"Inmuebles24\"\n",
    "out = 'out_puebla_hidalgo_2735.json'\n",
    "files = [file for file in os.listdir(path) if os.path.isfile(os.path.join(path, file))]\n",
    "\n",
    "print(files)"
   ]
  },
  {
   "cell_type": "code",
   "execution_count": 34,
   "metadata": {},
   "outputs": [
    {
     "name": "stdout",
     "output_type": "stream",
     "text": [
      "File hidalgo.json has 2132 elements\n",
      "File puebla_1.json has 500 elements\n",
      "File puebla_2.json has 103 elements\n",
      "All files Sum of elements has 2735\n",
      "Consolidado has 2735\n"
     ]
    }
   ],
   "source": [
    "consolidado = []\n",
    "counter= 0\n",
    "\n",
    "for file in files:\n",
    "    with open(os.path.join(path, file)) as json_file:\n",
    "        data = json.load(json_file)\n",
    "        print(f'File {file} has {len(data)} elements')\n",
    "        counter += len(data)\n",
    "        for element in data:\n",
    "            consolidado.append(element)\n",
    "            \n",
    "            \n",
    "print(f'All files Sum of elements has {counter}')            \n",
    "print(f'Consolidado has {len(consolidado)}')"
   ]
  },
  {
   "cell_type": "code",
   "execution_count": 35,
   "metadata": {},
   "outputs": [],
   "source": [
    "with open(out, 'w') as outfile:\n",
    "    json.dump(consolidado, outfile)"
   ]
  },
  {
   "cell_type": "code",
   "execution_count": null,
   "metadata": {},
   "outputs": [],
   "source": []
  }
 ],
 "metadata": {
  "kernelspec": {
   "display_name": "Python 3",
   "language": "python",
   "name": "python3"
  },
  "language_info": {
   "codemirror_mode": {
    "name": "ipython",
    "version": 3
   },
   "file_extension": ".py",
   "mimetype": "text/x-python",
   "name": "python",
   "nbconvert_exporter": "python",
   "pygments_lexer": "ipython3",
   "version": "3.7.6"
  }
 },
 "nbformat": 4,
 "nbformat_minor": 4
}
